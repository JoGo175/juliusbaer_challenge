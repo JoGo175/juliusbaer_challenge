{
 "cells": [
  {
   "cell_type": "code",
   "execution_count": 64,
   "metadata": {},
   "outputs": [],
   "source": [
    "import pandas as pd\n",
    "import numpy as np"
   ]
  },
  {
   "cell_type": "code",
   "execution_count": 90,
   "metadata": {},
   "outputs": [],
   "source": [
    "# Load the data\n",
    "is_factual_data = pd.read_csv('prompts_df_final_predictions.csv')\n",
    "impersonator_data = pd.read_csv('df_impersonater.csv')\n",
    "fake_pred_data = pd.read_csv('fake_pred_trained_model_FINAL.csv')\n"
   ]
  },
  {
   "cell_type": "code",
   "execution_count": 91,
   "metadata": {},
   "outputs": [
    {
     "data": {
      "text/html": [
       "<div>\n",
       "<style scoped>\n",
       "    .dataframe tbody tr th:only-of-type {\n",
       "        vertical-align: middle;\n",
       "    }\n",
       "\n",
       "    .dataframe tbody tr th {\n",
       "        vertical-align: top;\n",
       "    }\n",
       "\n",
       "    .dataframe thead th {\n",
       "        text-align: right;\n",
       "    }\n",
       "</style>\n",
       "<table border=\"1\" class=\"dataframe\">\n",
       "  <thead>\n",
       "    <tr style=\"text-align: right;\">\n",
       "      <th></th>\n",
       "      <th>prompt</th>\n",
       "      <th>file_name</th>\n",
       "      <th>language</th>\n",
       "      <th>client</th>\n",
       "      <th>assignment_score</th>\n",
       "      <th>similarity_score</th>\n",
       "      <th>is_factually_correct</th>\n",
       "    </tr>\n",
       "  </thead>\n",
       "  <tbody>\n",
       "    <tr>\n",
       "      <th>0</th>\n",
       "      <td>Hi, I'm Finn Murphy with Tax Residency in Tur...</td>\n",
       "      <td>72K6TSQ829.wav</td>\n",
       "      <td>en</td>\n",
       "      <td>Finn Murphy</td>\n",
       "      <td>90</td>\n",
       "      <td>100.0</td>\n",
       "      <td>True</td>\n",
       "    </tr>\n",
       "    <tr>\n",
       "      <th>1</th>\n",
       "      <td>Hi, this is Fatima Zara Mansuri, a tax reside...</td>\n",
       "      <td>O7O51MZU4N.wav</td>\n",
       "      <td>en</td>\n",
       "      <td>Fatima Zahra Mansouri</td>\n",
       "      <td>86</td>\n",
       "      <td>100.0</td>\n",
       "      <td>True</td>\n",
       "    </tr>\n",
       "    <tr>\n",
       "      <th>2</th>\n",
       "      <td>Hello, Santiago Rivera here, born on 15th Apr...</td>\n",
       "      <td>1PSFC9GSK4.wav</td>\n",
       "      <td>en</td>\n",
       "      <td>Santiago Rivera</td>\n",
       "      <td>90</td>\n",
       "      <td>100.0</td>\n",
       "      <td>True</td>\n",
       "    </tr>\n",
       "    <tr>\n",
       "      <th>3</th>\n",
       "      <td>Good morning, this is Olivia Tremblay with a ...</td>\n",
       "      <td>1JGXELMHOF.wav</td>\n",
       "      <td>en</td>\n",
       "      <td>Olivia Tremblay</td>\n",
       "      <td>90</td>\n",
       "      <td>89.0</td>\n",
       "      <td>True</td>\n",
       "    </tr>\n",
       "    <tr>\n",
       "      <th>4</th>\n",
       "      <td>Hello, this is Isabella Rossi. Social Securit...</td>\n",
       "      <td>VXC2DB72R7.wav</td>\n",
       "      <td>en</td>\n",
       "      <td>Isabella Rossi</td>\n",
       "      <td>90</td>\n",
       "      <td>55.0</td>\n",
       "      <td>False</td>\n",
       "    </tr>\n",
       "  </tbody>\n",
       "</table>\n",
       "</div>"
      ],
      "text/plain": [
       "                                              prompt       file_name language  \\\n",
       "0   Hi, I'm Finn Murphy with Tax Residency in Tur...  72K6TSQ829.wav       en   \n",
       "1   Hi, this is Fatima Zara Mansuri, a tax reside...  O7O51MZU4N.wav       en   \n",
       "2   Hello, Santiago Rivera here, born on 15th Apr...  1PSFC9GSK4.wav       en   \n",
       "3   Good morning, this is Olivia Tremblay with a ...  1JGXELMHOF.wav       en   \n",
       "4   Hello, this is Isabella Rossi. Social Securit...  VXC2DB72R7.wav       en   \n",
       "\n",
       "                  client  assignment_score  similarity_score  \\\n",
       "0            Finn Murphy                90             100.0   \n",
       "1  Fatima Zahra Mansouri                86             100.0   \n",
       "2        Santiago Rivera                90             100.0   \n",
       "3        Olivia Tremblay                90              89.0   \n",
       "4         Isabella Rossi                90              55.0   \n",
       "\n",
       "   is_factually_correct  \n",
       "0                  True  \n",
       "1                  True  \n",
       "2                  True  \n",
       "3                  True  \n",
       "4                 False  "
      ]
     },
     "execution_count": 91,
     "metadata": {},
     "output_type": "execute_result"
    }
   ],
   "source": [
    "is_factual_data.head()"
   ]
  },
  {
   "cell_type": "code",
   "execution_count": 92,
   "metadata": {},
   "outputs": [
    {
     "data": {
      "text/plain": [
       "is_factually_correct\n",
       "True     200\n",
       "False    200\n",
       "Name: count, dtype: int64"
      ]
     },
     "execution_count": 92,
     "metadata": {},
     "output_type": "execute_result"
    }
   ],
   "source": [
    "# how many are is_factually_correct in is_factual_data\n",
    "is_factual_data['is_factually_correct'].value_counts() "
   ]
  },
  {
   "cell_type": "code",
   "execution_count": 93,
   "metadata": {},
   "outputs": [
    {
     "name": "stdout",
     "output_type": "stream",
     "text": [
      "(400, 2)\n"
     ]
    },
    {
     "data": {
      "text/html": [
       "<div>\n",
       "<style scoped>\n",
       "    .dataframe tbody tr th:only-of-type {\n",
       "        vertical-align: middle;\n",
       "    }\n",
       "\n",
       "    .dataframe tbody tr th {\n",
       "        vertical-align: top;\n",
       "    }\n",
       "\n",
       "    .dataframe thead th {\n",
       "        text-align: right;\n",
       "    }\n",
       "</style>\n",
       "<table border=\"1\" class=\"dataframe\">\n",
       "  <thead>\n",
       "    <tr style=\"text-align: right;\">\n",
       "      <th></th>\n",
       "      <th>file_name</th>\n",
       "      <th>is_factually_correct</th>\n",
       "    </tr>\n",
       "  </thead>\n",
       "  <tbody>\n",
       "    <tr>\n",
       "      <th>0</th>\n",
       "      <td>72K6TSQ829</td>\n",
       "      <td>True</td>\n",
       "    </tr>\n",
       "    <tr>\n",
       "      <th>1</th>\n",
       "      <td>O7O51MZU4N</td>\n",
       "      <td>True</td>\n",
       "    </tr>\n",
       "    <tr>\n",
       "      <th>2</th>\n",
       "      <td>1PSFC9GSK4</td>\n",
       "      <td>True</td>\n",
       "    </tr>\n",
       "    <tr>\n",
       "      <th>3</th>\n",
       "      <td>1JGXELMHOF</td>\n",
       "      <td>True</td>\n",
       "    </tr>\n",
       "    <tr>\n",
       "      <th>4</th>\n",
       "      <td>VXC2DB72R7</td>\n",
       "      <td>False</td>\n",
       "    </tr>\n",
       "  </tbody>\n",
       "</table>\n",
       "</div>"
      ],
      "text/plain": [
       "    file_name  is_factually_correct\n",
       "0  72K6TSQ829                  True\n",
       "1  O7O51MZU4N                  True\n",
       "2  1PSFC9GSK4                  True\n",
       "3  1JGXELMHOF                  True\n",
       "4  VXC2DB72R7                 False"
      ]
     },
     "execution_count": 93,
     "metadata": {},
     "output_type": "execute_result"
    }
   ],
   "source": [
    "# is_factual_data[\"file_name\"] take everything before the \".wav\"\n",
    "is_factual_data[\"file_name\"] = is_factual_data[\"file_name\"].str.split(\".\").str[0]\n",
    "\n",
    "# use the file_name, is_factually_correct columns\n",
    "is_factual_data = is_factual_data[[\"file_name\", \"is_factually_correct\"]]\n",
    "print(is_factual_data.shape)\n",
    "is_factual_data.head()"
   ]
  },
  {
   "cell_type": "code",
   "execution_count": 94,
   "metadata": {},
   "outputs": [
    {
     "data": {
      "text/html": [
       "<div>\n",
       "<style scoped>\n",
       "    .dataframe tbody tr th:only-of-type {\n",
       "        vertical-align: middle;\n",
       "    }\n",
       "\n",
       "    .dataframe tbody tr th {\n",
       "        vertical-align: top;\n",
       "    }\n",
       "\n",
       "    .dataframe thead th {\n",
       "        text-align: right;\n",
       "    }\n",
       "</style>\n",
       "<table border=\"1\" class=\"dataframe\">\n",
       "  <thead>\n",
       "    <tr style=\"text-align: right;\">\n",
       "      <th></th>\n",
       "      <th>file_name</th>\n",
       "      <th>ref_name</th>\n",
       "      <th>score</th>\n",
       "      <th>prediction</th>\n",
       "      <th>is_impersonator</th>\n",
       "    </tr>\n",
       "  </thead>\n",
       "  <tbody>\n",
       "    <tr>\n",
       "      <th>0</th>\n",
       "      <td>72K6TSQ829</td>\n",
       "      <td>ZGZHPG1TS8</td>\n",
       "      <td>0.615426</td>\n",
       "      <td>1</td>\n",
       "      <td>True</td>\n",
       "    </tr>\n",
       "    <tr>\n",
       "      <th>1</th>\n",
       "      <td>O7O51MZU4N</td>\n",
       "      <td>YDDKTODLGX</td>\n",
       "      <td>0.645373</td>\n",
       "      <td>1</td>\n",
       "      <td>True</td>\n",
       "    </tr>\n",
       "    <tr>\n",
       "      <th>2</th>\n",
       "      <td>1PSFC9GSK4</td>\n",
       "      <td>H01FH3KEY8</td>\n",
       "      <td>-0.034738</td>\n",
       "      <td>0</td>\n",
       "      <td>True</td>\n",
       "    </tr>\n",
       "    <tr>\n",
       "      <th>3</th>\n",
       "      <td>1JGXELMHOF</td>\n",
       "      <td>CBDX295MEZ</td>\n",
       "      <td>0.551791</td>\n",
       "      <td>1</td>\n",
       "      <td>True</td>\n",
       "    </tr>\n",
       "    <tr>\n",
       "      <th>4</th>\n",
       "      <td>VXC2DB72R7</td>\n",
       "      <td>2IM42LTT5R</td>\n",
       "      <td>0.636094</td>\n",
       "      <td>1</td>\n",
       "      <td>True</td>\n",
       "    </tr>\n",
       "  </tbody>\n",
       "</table>\n",
       "</div>"
      ],
      "text/plain": [
       "    file_name    ref_name     score  prediction  is_impersonator\n",
       "0  72K6TSQ829  ZGZHPG1TS8  0.615426           1             True\n",
       "1  O7O51MZU4N  YDDKTODLGX  0.645373           1             True\n",
       "2  1PSFC9GSK4  H01FH3KEY8 -0.034738           0             True\n",
       "3  1JGXELMHOF  CBDX295MEZ  0.551791           1             True\n",
       "4  VXC2DB72R7  2IM42LTT5R  0.636094           1             True"
      ]
     },
     "execution_count": 94,
     "metadata": {},
     "output_type": "execute_result"
    }
   ],
   "source": [
    "impersonator_data.head()\n",
    "\n",
    "impersonator_data[\"is_impersonator\"] = impersonator_data[\"score\"] < 0.7\n",
    "impersonator_data.head()"
   ]
  },
  {
   "cell_type": "code",
   "execution_count": 95,
   "metadata": {},
   "outputs": [
    {
     "data": {
      "text/plain": [
       "is_impersonator\n",
       "True     244\n",
       "False    156\n",
       "Name: count, dtype: int64"
      ]
     },
     "execution_count": 95,
     "metadata": {},
     "output_type": "execute_result"
    }
   ],
   "source": [
    "# how many predictions are True\n",
    "impersonator_data[\"is_impersonator\"].value_counts()"
   ]
  },
  {
   "cell_type": "code",
   "execution_count": 96,
   "metadata": {},
   "outputs": [
    {
     "name": "stdout",
     "output_type": "stream",
     "text": [
      "(400, 2)\n"
     ]
    },
    {
     "data": {
      "text/html": [
       "<div>\n",
       "<style scoped>\n",
       "    .dataframe tbody tr th:only-of-type {\n",
       "        vertical-align: middle;\n",
       "    }\n",
       "\n",
       "    .dataframe tbody tr th {\n",
       "        vertical-align: top;\n",
       "    }\n",
       "\n",
       "    .dataframe thead th {\n",
       "        text-align: right;\n",
       "    }\n",
       "</style>\n",
       "<table border=\"1\" class=\"dataframe\">\n",
       "  <thead>\n",
       "    <tr style=\"text-align: right;\">\n",
       "      <th></th>\n",
       "      <th>file_name</th>\n",
       "      <th>is_impersonator</th>\n",
       "    </tr>\n",
       "  </thead>\n",
       "  <tbody>\n",
       "    <tr>\n",
       "      <th>0</th>\n",
       "      <td>72K6TSQ829</td>\n",
       "      <td>True</td>\n",
       "    </tr>\n",
       "    <tr>\n",
       "      <th>1</th>\n",
       "      <td>O7O51MZU4N</td>\n",
       "      <td>True</td>\n",
       "    </tr>\n",
       "    <tr>\n",
       "      <th>2</th>\n",
       "      <td>1PSFC9GSK4</td>\n",
       "      <td>True</td>\n",
       "    </tr>\n",
       "    <tr>\n",
       "      <th>3</th>\n",
       "      <td>1JGXELMHOF</td>\n",
       "      <td>True</td>\n",
       "    </tr>\n",
       "    <tr>\n",
       "      <th>4</th>\n",
       "      <td>VXC2DB72R7</td>\n",
       "      <td>True</td>\n",
       "    </tr>\n",
       "  </tbody>\n",
       "</table>\n",
       "</div>"
      ],
      "text/plain": [
       "    file_name  is_impersonator\n",
       "0  72K6TSQ829             True\n",
       "1  O7O51MZU4N             True\n",
       "2  1PSFC9GSK4             True\n",
       "3  1JGXELMHOF             True\n",
       "4  VXC2DB72R7             True"
      ]
     },
     "execution_count": 96,
     "metadata": {},
     "output_type": "execute_result"
    }
   ],
   "source": [
    "# only keep the file_name, is_impersonator columns\n",
    "impersonator_data = impersonator_data[[\"file_name\", \"is_impersonator\"]]\n",
    "print(impersonator_data.shape)\n",
    "impersonator_data.head()"
   ]
  },
  {
   "cell_type": "code",
   "execution_count": 97,
   "metadata": {},
   "outputs": [
    {
     "data": {
      "text/html": [
       "<div>\n",
       "<style scoped>\n",
       "    .dataframe tbody tr th:only-of-type {\n",
       "        vertical-align: middle;\n",
       "    }\n",
       "\n",
       "    .dataframe tbody tr th {\n",
       "        vertical-align: top;\n",
       "    }\n",
       "\n",
       "    .dataframe thead th {\n",
       "        text-align: right;\n",
       "    }\n",
       "</style>\n",
       "<table border=\"1\" class=\"dataframe\">\n",
       "  <thead>\n",
       "    <tr style=\"text-align: right;\">\n",
       "      <th></th>\n",
       "      <th>Name</th>\n",
       "      <th>Predicted_Labels_34</th>\n",
       "      <th>Predicted_Labels_808</th>\n",
       "      <th>Predicted_Labels_999</th>\n",
       "      <th>Predicted_label_96</th>\n",
       "      <th>Predicted_label_200</th>\n",
       "      <th>Predicted_label_avg</th>\n",
       "      <th>Probabilities</th>\n",
       "      <th>Probabilities_0</th>\n",
       "      <th>Probabilities_1</th>\n",
       "      <th>is_fake</th>\n",
       "    </tr>\n",
       "  </thead>\n",
       "  <tbody>\n",
       "    <tr>\n",
       "      <th>0</th>\n",
       "      <td>72K6TSQ829</td>\n",
       "      <td>0</td>\n",
       "      <td>0</td>\n",
       "      <td>0</td>\n",
       "      <td>0</td>\n",
       "      <td>0</td>\n",
       "      <td>0.0</td>\n",
       "      <td>[0.85575485 0.1442451 ]</td>\n",
       "      <td>0.855755</td>\n",
       "      <td>0.144245</td>\n",
       "      <td>True</td>\n",
       "    </tr>\n",
       "    <tr>\n",
       "      <th>1</th>\n",
       "      <td>O7O51MZU4N</td>\n",
       "      <td>0</td>\n",
       "      <td>0</td>\n",
       "      <td>0</td>\n",
       "      <td>0</td>\n",
       "      <td>0</td>\n",
       "      <td>0.0</td>\n",
       "      <td>[0.8609644  0.13903558]</td>\n",
       "      <td>0.860964</td>\n",
       "      <td>0.139036</td>\n",
       "      <td>True</td>\n",
       "    </tr>\n",
       "    <tr>\n",
       "      <th>2</th>\n",
       "      <td>1PSFC9GSK4</td>\n",
       "      <td>1</td>\n",
       "      <td>1</td>\n",
       "      <td>1</td>\n",
       "      <td>1</td>\n",
       "      <td>1</td>\n",
       "      <td>1.0</td>\n",
       "      <td>[0.04502322 0.9549768 ]</td>\n",
       "      <td>0.045023</td>\n",
       "      <td>0.954977</td>\n",
       "      <td>False</td>\n",
       "    </tr>\n",
       "    <tr>\n",
       "      <th>3</th>\n",
       "      <td>1JGXELMHOF</td>\n",
       "      <td>0</td>\n",
       "      <td>0</td>\n",
       "      <td>0</td>\n",
       "      <td>0</td>\n",
       "      <td>0</td>\n",
       "      <td>0.0</td>\n",
       "      <td>[0.9161273  0.08387267]</td>\n",
       "      <td>0.916127</td>\n",
       "      <td>0.083873</td>\n",
       "      <td>True</td>\n",
       "    </tr>\n",
       "    <tr>\n",
       "      <th>4</th>\n",
       "      <td>VXC2DB72R7</td>\n",
       "      <td>1</td>\n",
       "      <td>0</td>\n",
       "      <td>1</td>\n",
       "      <td>1</td>\n",
       "      <td>1</td>\n",
       "      <td>0.8</td>\n",
       "      <td>[0.47609314 0.52390695]</td>\n",
       "      <td>0.476093</td>\n",
       "      <td>0.523907</td>\n",
       "      <td>False</td>\n",
       "    </tr>\n",
       "  </tbody>\n",
       "</table>\n",
       "</div>"
      ],
      "text/plain": [
       "         Name  Predicted_Labels_34  Predicted_Labels_808  \\\n",
       "0  72K6TSQ829                    0                     0   \n",
       "1  O7O51MZU4N                    0                     0   \n",
       "2  1PSFC9GSK4                    1                     1   \n",
       "3  1JGXELMHOF                    0                     0   \n",
       "4  VXC2DB72R7                    1                     0   \n",
       "\n",
       "   Predicted_Labels_999  Predicted_label_96  Predicted_label_200  \\\n",
       "0                     0                   0                    0   \n",
       "1                     0                   0                    0   \n",
       "2                     1                   1                    1   \n",
       "3                     0                   0                    0   \n",
       "4                     1                   1                    1   \n",
       "\n",
       "   Predicted_label_avg            Probabilities  Probabilities_0  \\\n",
       "0                  0.0  [0.85575485 0.1442451 ]         0.855755   \n",
       "1                  0.0  [0.8609644  0.13903558]         0.860964   \n",
       "2                  1.0  [0.04502322 0.9549768 ]         0.045023   \n",
       "3                  0.0  [0.9161273  0.08387267]         0.916127   \n",
       "4                  0.8  [0.47609314 0.52390695]         0.476093   \n",
       "\n",
       "   Probabilities_1  is_fake  \n",
       "0         0.144245     True  \n",
       "1         0.139036     True  \n",
       "2         0.954977    False  \n",
       "3         0.083873     True  \n",
       "4         0.523907    False  "
      ]
     },
     "execution_count": 97,
     "metadata": {},
     "output_type": "execute_result"
    }
   ],
   "source": [
    "fake_pred_data.head()\n",
    "\n",
    "# fake_pred_data[\"is_fake\"] = True if Predicted_label_avg < 0.5\n",
    "fake_pred_data[\"is_fake\"] = fake_pred_data[\"Predicted_label_avg\"] < 0.5\n",
    "fake_pred_data.head()\n"
   ]
  },
  {
   "cell_type": "code",
   "execution_count": 98,
   "metadata": {},
   "outputs": [
    {
     "data": {
      "text/plain": [
       "is_fake\n",
       "False    225\n",
       "True     175\n",
       "Name: count, dtype: int64"
      ]
     },
     "execution_count": 98,
     "metadata": {},
     "output_type": "execute_result"
    }
   ],
   "source": [
    "# how many predictions are True\n",
    "fake_pred_data[\"is_fake\"].value_counts()"
   ]
  },
  {
   "cell_type": "code",
   "execution_count": 99,
   "metadata": {},
   "outputs": [
    {
     "name": "stdout",
     "output_type": "stream",
     "text": [
      "(400, 2)\n"
     ]
    },
    {
     "data": {
      "text/html": [
       "<div>\n",
       "<style scoped>\n",
       "    .dataframe tbody tr th:only-of-type {\n",
       "        vertical-align: middle;\n",
       "    }\n",
       "\n",
       "    .dataframe tbody tr th {\n",
       "        vertical-align: top;\n",
       "    }\n",
       "\n",
       "    .dataframe thead th {\n",
       "        text-align: right;\n",
       "    }\n",
       "</style>\n",
       "<table border=\"1\" class=\"dataframe\">\n",
       "  <thead>\n",
       "    <tr style=\"text-align: right;\">\n",
       "      <th></th>\n",
       "      <th>Name</th>\n",
       "      <th>is_fake</th>\n",
       "    </tr>\n",
       "  </thead>\n",
       "  <tbody>\n",
       "    <tr>\n",
       "      <th>0</th>\n",
       "      <td>72K6TSQ829</td>\n",
       "      <td>True</td>\n",
       "    </tr>\n",
       "    <tr>\n",
       "      <th>1</th>\n",
       "      <td>O7O51MZU4N</td>\n",
       "      <td>True</td>\n",
       "    </tr>\n",
       "    <tr>\n",
       "      <th>2</th>\n",
       "      <td>1PSFC9GSK4</td>\n",
       "      <td>False</td>\n",
       "    </tr>\n",
       "    <tr>\n",
       "      <th>3</th>\n",
       "      <td>1JGXELMHOF</td>\n",
       "      <td>True</td>\n",
       "    </tr>\n",
       "    <tr>\n",
       "      <th>4</th>\n",
       "      <td>VXC2DB72R7</td>\n",
       "      <td>False</td>\n",
       "    </tr>\n",
       "  </tbody>\n",
       "</table>\n",
       "</div>"
      ],
      "text/plain": [
       "         Name  is_fake\n",
       "0  72K6TSQ829     True\n",
       "1  O7O51MZU4N     True\n",
       "2  1PSFC9GSK4    False\n",
       "3  1JGXELMHOF     True\n",
       "4  VXC2DB72R7    False"
      ]
     },
     "execution_count": 99,
     "metadata": {},
     "output_type": "execute_result"
    }
   ],
   "source": [
    "# only keep the file_name, is_fake columns\n",
    "fake_pred_data = fake_pred_data[[\"Name\", \"is_fake\"]]\n",
    "print(fake_pred_data.shape)\n",
    "fake_pred_data.head()"
   ]
  },
  {
   "cell_type": "code",
   "execution_count": 100,
   "metadata": {},
   "outputs": [
    {
     "data": {
      "text/html": [
       "<div>\n",
       "<style scoped>\n",
       "    .dataframe tbody tr th:only-of-type {\n",
       "        vertical-align: middle;\n",
       "    }\n",
       "\n",
       "    .dataframe tbody tr th {\n",
       "        vertical-align: top;\n",
       "    }\n",
       "\n",
       "    .dataframe thead th {\n",
       "        text-align: right;\n",
       "    }\n",
       "</style>\n",
       "<table border=\"1\" class=\"dataframe\">\n",
       "  <thead>\n",
       "    <tr style=\"text-align: right;\">\n",
       "      <th></th>\n",
       "      <th>file_name</th>\n",
       "      <th>is_fake</th>\n",
       "    </tr>\n",
       "  </thead>\n",
       "  <tbody>\n",
       "    <tr>\n",
       "      <th>0</th>\n",
       "      <td>72K6TSQ829</td>\n",
       "      <td>True</td>\n",
       "    </tr>\n",
       "    <tr>\n",
       "      <th>1</th>\n",
       "      <td>O7O51MZU4N</td>\n",
       "      <td>True</td>\n",
       "    </tr>\n",
       "    <tr>\n",
       "      <th>2</th>\n",
       "      <td>1PSFC9GSK4</td>\n",
       "      <td>False</td>\n",
       "    </tr>\n",
       "    <tr>\n",
       "      <th>3</th>\n",
       "      <td>1JGXELMHOF</td>\n",
       "      <td>True</td>\n",
       "    </tr>\n",
       "    <tr>\n",
       "      <th>4</th>\n",
       "      <td>VXC2DB72R7</td>\n",
       "      <td>False</td>\n",
       "    </tr>\n",
       "  </tbody>\n",
       "</table>\n",
       "</div>"
      ],
      "text/plain": [
       "    file_name  is_fake\n",
       "0  72K6TSQ829     True\n",
       "1  O7O51MZU4N     True\n",
       "2  1PSFC9GSK4    False\n",
       "3  1JGXELMHOF     True\n",
       "4  VXC2DB72R7    False"
      ]
     },
     "execution_count": 100,
     "metadata": {},
     "output_type": "execute_result"
    }
   ],
   "source": [
    "# rename the Name column to file_name\n",
    "fake_pred_data.rename(columns={\"Name\": \"file_name\"}, inplace=True)\n",
    "fake_pred_data.head()"
   ]
  },
  {
   "cell_type": "code",
   "execution_count": 101,
   "metadata": {},
   "outputs": [
    {
     "name": "stdout",
     "output_type": "stream",
     "text": [
      "(400, 4)\n"
     ]
    },
    {
     "data": {
      "text/html": [
       "<div>\n",
       "<style scoped>\n",
       "    .dataframe tbody tr th:only-of-type {\n",
       "        vertical-align: middle;\n",
       "    }\n",
       "\n",
       "    .dataframe tbody tr th {\n",
       "        vertical-align: top;\n",
       "    }\n",
       "\n",
       "    .dataframe thead th {\n",
       "        text-align: right;\n",
       "    }\n",
       "</style>\n",
       "<table border=\"1\" class=\"dataframe\">\n",
       "  <thead>\n",
       "    <tr style=\"text-align: right;\">\n",
       "      <th></th>\n",
       "      <th>file_name</th>\n",
       "      <th>is_fake</th>\n",
       "      <th>is_factually_correct</th>\n",
       "      <th>is_impersonator</th>\n",
       "    </tr>\n",
       "  </thead>\n",
       "  <tbody>\n",
       "    <tr>\n",
       "      <th>0</th>\n",
       "      <td>72K6TSQ829</td>\n",
       "      <td>True</td>\n",
       "      <td>True</td>\n",
       "      <td>True</td>\n",
       "    </tr>\n",
       "    <tr>\n",
       "      <th>1</th>\n",
       "      <td>O7O51MZU4N</td>\n",
       "      <td>True</td>\n",
       "      <td>True</td>\n",
       "      <td>True</td>\n",
       "    </tr>\n",
       "    <tr>\n",
       "      <th>2</th>\n",
       "      <td>1PSFC9GSK4</td>\n",
       "      <td>False</td>\n",
       "      <td>True</td>\n",
       "      <td>True</td>\n",
       "    </tr>\n",
       "    <tr>\n",
       "      <th>3</th>\n",
       "      <td>1JGXELMHOF</td>\n",
       "      <td>True</td>\n",
       "      <td>True</td>\n",
       "      <td>True</td>\n",
       "    </tr>\n",
       "    <tr>\n",
       "      <th>4</th>\n",
       "      <td>VXC2DB72R7</td>\n",
       "      <td>False</td>\n",
       "      <td>False</td>\n",
       "      <td>True</td>\n",
       "    </tr>\n",
       "  </tbody>\n",
       "</table>\n",
       "</div>"
      ],
      "text/plain": [
       "    file_name  is_fake  is_factually_correct  is_impersonator\n",
       "0  72K6TSQ829     True                  True             True\n",
       "1  O7O51MZU4N     True                  True             True\n",
       "2  1PSFC9GSK4    False                  True             True\n",
       "3  1JGXELMHOF     True                  True             True\n",
       "4  VXC2DB72R7    False                 False             True"
      ]
     },
     "execution_count": 101,
     "metadata": {},
     "output_type": "execute_result"
    }
   ],
   "source": [
    "\n",
    "# merge the dataframes by the file_name column, order: is_fake, is_factually_correct, is_impersonator\n",
    "\n",
    "merged_data = pd.merge(fake_pred_data, is_factual_data, on=\"file_name\", how=\"inner\")\n",
    "merged_data = pd.merge(merged_data, impersonator_data, on=\"file_name\", how=\"inner\")\n",
    "\n",
    "print(merged_data.shape)\n",
    "merged_data.head()\n"
   ]
  },
  {
   "cell_type": "code",
   "execution_count": 102,
   "metadata": {},
   "outputs": [
    {
     "data": {
      "text/plain": [
       "file_name               0\n",
       "is_fake                 0\n",
       "is_factually_correct    0\n",
       "is_impersonator         0\n",
       "dtype: int64"
      ]
     },
     "execution_count": 102,
     "metadata": {},
     "output_type": "execute_result"
    }
   ],
   "source": [
    "# is there any missing data?\n",
    "merged_data.isnull().sum()"
   ]
  },
  {
   "cell_type": "code",
   "execution_count": 103,
   "metadata": {},
   "outputs": [
    {
     "name": "stdout",
     "output_type": "stream",
     "text": [
      "is_fake\n",
      "False    225\n",
      "True     175\n",
      "Name: count, dtype: int64\n",
      "is_factually_correct\n",
      "True     200\n",
      "False    200\n",
      "Name: count, dtype: int64\n",
      "is_impersonator\n",
      "True     244\n",
      "False    156\n",
      "Name: count, dtype: int64\n"
     ]
    }
   ],
   "source": [
    "# show the distribution of the labels in the merged data for each column\n",
    "for col in merged_data.columns[1:]:\n",
    "    print(merged_data[col].value_counts())\n"
   ]
  },
  {
   "cell_type": "code",
   "execution_count": 104,
   "metadata": {},
   "outputs": [
    {
     "data": {
      "text/html": [
       "<div>\n",
       "<style scoped>\n",
       "    .dataframe tbody tr th:only-of-type {\n",
       "        vertical-align: middle;\n",
       "    }\n",
       "\n",
       "    .dataframe tbody tr th {\n",
       "        vertical-align: top;\n",
       "    }\n",
       "\n",
       "    .dataframe thead th {\n",
       "        text-align: right;\n",
       "    }\n",
       "</style>\n",
       "<table border=\"1\" class=\"dataframe\">\n",
       "  <thead>\n",
       "    <tr style=\"text-align: right;\">\n",
       "      <th></th>\n",
       "      <th>rec_id</th>\n",
       "      <th>is_fake</th>\n",
       "      <th>is_factually_correct</th>\n",
       "      <th>is_impersonator</th>\n",
       "    </tr>\n",
       "  </thead>\n",
       "  <tbody>\n",
       "    <tr>\n",
       "      <th>0</th>\n",
       "      <td>72K6TSQ829</td>\n",
       "      <td>True</td>\n",
       "      <td>True</td>\n",
       "      <td>True</td>\n",
       "    </tr>\n",
       "    <tr>\n",
       "      <th>1</th>\n",
       "      <td>O7O51MZU4N</td>\n",
       "      <td>True</td>\n",
       "      <td>True</td>\n",
       "      <td>True</td>\n",
       "    </tr>\n",
       "    <tr>\n",
       "      <th>2</th>\n",
       "      <td>1PSFC9GSK4</td>\n",
       "      <td>False</td>\n",
       "      <td>True</td>\n",
       "      <td>True</td>\n",
       "    </tr>\n",
       "    <tr>\n",
       "      <th>3</th>\n",
       "      <td>1JGXELMHOF</td>\n",
       "      <td>True</td>\n",
       "      <td>True</td>\n",
       "      <td>True</td>\n",
       "    </tr>\n",
       "    <tr>\n",
       "      <th>4</th>\n",
       "      <td>VXC2DB72R7</td>\n",
       "      <td>False</td>\n",
       "      <td>False</td>\n",
       "      <td>True</td>\n",
       "    </tr>\n",
       "    <tr>\n",
       "      <th>...</th>\n",
       "      <td>...</td>\n",
       "      <td>...</td>\n",
       "      <td>...</td>\n",
       "      <td>...</td>\n",
       "    </tr>\n",
       "    <tr>\n",
       "      <th>395</th>\n",
       "      <td>FPMY3OD663</td>\n",
       "      <td>True</td>\n",
       "      <td>False</td>\n",
       "      <td>False</td>\n",
       "    </tr>\n",
       "    <tr>\n",
       "      <th>396</th>\n",
       "      <td>TKWJHEYRLP</td>\n",
       "      <td>False</td>\n",
       "      <td>True</td>\n",
       "      <td>True</td>\n",
       "    </tr>\n",
       "    <tr>\n",
       "      <th>397</th>\n",
       "      <td>XATHQAOSPE</td>\n",
       "      <td>False</td>\n",
       "      <td>False</td>\n",
       "      <td>True</td>\n",
       "    </tr>\n",
       "    <tr>\n",
       "      <th>398</th>\n",
       "      <td>FGQ1PL8LA6</td>\n",
       "      <td>False</td>\n",
       "      <td>False</td>\n",
       "      <td>True</td>\n",
       "    </tr>\n",
       "    <tr>\n",
       "      <th>399</th>\n",
       "      <td>GW74P8SAKY</td>\n",
       "      <td>False</td>\n",
       "      <td>True</td>\n",
       "      <td>False</td>\n",
       "    </tr>\n",
       "  </tbody>\n",
       "</table>\n",
       "<p>400 rows × 4 columns</p>\n",
       "</div>"
      ],
      "text/plain": [
       "         rec_id  is_fake  is_factually_correct  is_impersonator\n",
       "0    72K6TSQ829     True                  True             True\n",
       "1    O7O51MZU4N     True                  True             True\n",
       "2    1PSFC9GSK4    False                  True             True\n",
       "3    1JGXELMHOF     True                  True             True\n",
       "4    VXC2DB72R7    False                 False             True\n",
       "..          ...      ...                   ...              ...\n",
       "395  FPMY3OD663     True                 False            False\n",
       "396  TKWJHEYRLP    False                  True             True\n",
       "397  XATHQAOSPE    False                 False             True\n",
       "398  FGQ1PL8LA6    False                 False             True\n",
       "399  GW74P8SAKY    False                  True            False\n",
       "\n",
       "[400 rows x 4 columns]"
      ]
     },
     "execution_count": 104,
     "metadata": {},
     "output_type": "execute_result"
    }
   ],
   "source": [
    "# rename file_name column to rec_id\n",
    "merged_data.rename(columns={\"file_name\": \"rec_id\"}, inplace=True)\n",
    "\n",
    "merged_data"
   ]
  },
  {
   "cell_type": "code",
   "execution_count": 105,
   "metadata": {},
   "outputs": [],
   "source": [
    "# save the data\n",
    "merged_data.to_csv(\"../deep_snoopy.csv\", index=False)"
   ]
  },
  {
   "cell_type": "code",
   "execution_count": 106,
   "metadata": {},
   "outputs": [
    {
     "data": {
      "text/plain": [
       "is_fake  is_factually_correct  is_impersonator\n",
       "False    False                 False              23\n",
       "                               True               89\n",
       "         True                  False              88\n",
       "                               True               25\n",
       "True     False                 False              25\n",
       "                               True               63\n",
       "         True                  False              20\n",
       "                               True               67\n",
       "dtype: int64"
      ]
     },
     "execution_count": 106,
     "metadata": {},
     "output_type": "execute_result"
    }
   ],
   "source": [
    "# count the combinations of the labels of is_fake, is_factually_correct, is_impersonator\n",
    "\n",
    "merged_data.groupby([\"is_fake\", \"is_factually_correct\", \"is_impersonator\"]).size()\n"
   ]
  },
  {
   "cell_type": "code",
   "execution_count": 107,
   "metadata": {},
   "outputs": [
    {
     "data": {
      "text/plain": [
       "(130, 4)"
      ]
     },
     "execution_count": 107,
     "metadata": {},
     "output_type": "execute_result"
    }
   ],
   "source": [
    "# count the cases where is_fake and is_impersonator are simultaneously True\n",
    "\n",
    "merged_data[(merged_data[\"is_fake\"] == True) & (merged_data[\"is_impersonator\"] == True)].shape"
   ]
  },
  {
   "cell_type": "code",
   "execution_count": null,
   "metadata": {},
   "outputs": [],
   "source": []
  }
 ],
 "metadata": {
  "kernelspec": {
   "display_name": "base",
   "language": "python",
   "name": "python3"
  },
  "language_info": {
   "codemirror_mode": {
    "name": "ipython",
    "version": 3
   },
   "file_extension": ".py",
   "mimetype": "text/x-python",
   "name": "python",
   "nbconvert_exporter": "python",
   "pygments_lexer": "ipython3",
   "version": "3.9.18"
  }
 },
 "nbformat": 4,
 "nbformat_minor": 2
}
